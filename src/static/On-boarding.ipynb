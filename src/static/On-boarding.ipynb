{
 "cells": [
  {
   "cell_type": "markdown",
   "id": "34795622",
   "metadata": {},
   "source": [
    "# On-boarding"
   ]
  },
  {
   "cell_type": "markdown",
   "id": "551e0e67",
   "metadata": {},
   "source": [
    "## Dependencies"
   ]
  },
  {
   "cell_type": "code",
   "execution_count": null,
   "id": "da508b17",
   "metadata": {},
   "outputs": [],
   "source": [
    "!{sys.executable} -m pip install -q ag2==0.3.2 ag2[anthropic]==0.3.2"
   ]
  },
  {
   "cell_type": "code",
   "execution_count": null,
   "id": "7cd4da55",
   "metadata": {},
   "outputs": [],
   "source": [
    "# pylint: disable=line-too-long,unknown-option-value,unused-argument,unused-import,invalid-name,import-error,inconsistent-quotes,missing-function-docstring,missing-param-doc,missing-return-doc\n",
    "import csv\n",
    "import os\n",
    "import sqlite3"
   ]
  },
  {
   "cell_type": "code",
   "execution_count": null,
   "id": "a8823791",
   "metadata": {},
   "outputs": [],
   "source": [
    "from typing import Any, Callable, Dict, List, Optional, Tuple, Union  # noqa"
   ]
  },
  {
   "cell_type": "code",
   "execution_count": null,
   "id": "19390445",
   "metadata": {},
   "outputs": [],
   "source": [
    "from autogen import (\n",
    "    AssistantAgent,\n",
    "    UserProxyAgent,\n",
    "    initiate_chats,\n",
    "    runtime_logging,\n",
    ")"
   ]
  },
  {
   "cell_type": "code",
   "execution_count": null,
   "id": "907738eb",
   "metadata": {
    "lines_to_next_cell": 2
   },
   "outputs": [],
   "source": [
    "from waldiez_api_keys import get_model_api_key"
   ]
  },
  {
   "cell_type": "markdown",
   "id": "5adf4cab",
   "metadata": {},
   "source": [
    "## Models"
   ]
  },
  {
   "cell_type": "code",
   "execution_count": null,
   "id": "d1e88349",
   "metadata": {},
   "outputs": [],
   "source": [
    "gpt_3_5_turbo_llm_config = {\n",
    "    \"config_list\": [\n",
    "        {\n",
    "            \"model\": \"gpt-3.5-turbo\",\n",
    "            \"temperature\": 0.5,\n",
    "            \"api_type\": \"openai\",\n",
    "            \"api_key\": get_model_api_key(\"gpt_3_5_turbo\"),\n",
    "        }\n",
    "    ]\n",
    "}\n",
    "claude_3_5_sonnet_20240620_llm_config = {\n",
    "    \"config_list\": [\n",
    "        {\n",
    "            \"model\": \"claude-3-5-sonnet-20240620\",\n",
    "            \"temperature\": 0.5,\n",
    "            \"api_type\": \"anthropic\",\n",
    "            \"api_key\": get_model_api_key(\"claude_3_5_sonnet_20240620\"),\n",
    "        }\n",
    "    ]\n",
    "}"
   ]
  },
  {
   "cell_type": "markdown",
   "id": "8db62e30",
   "metadata": {},
   "source": [
    "## Agents"
   ]
  },
  {
   "cell_type": "code",
   "execution_count": null,
   "id": "0e099854",
   "metadata": {},
   "outputs": [],
   "source": [
    "customer_proxy = UserProxyAgent(\n",
    "    name=\"customer_proxy\",\n",
    "    description=\"A user proxy agent\",\n",
    "    llm_config=False,\n",
    "    human_input_mode=\"ALWAYS\",\n",
    "    max_consecutive_auto_reply=None,\n",
    "    default_auto_reply=None,\n",
    "    code_execution_config=False,\n",
    "    is_termination_msg=None,\n",
    ")\n",
    "personal_information_agent = AssistantAgent(\n",
    "    name=\"personal_information_agent\",\n",
    "    description=\"On-boarding Personal information agent\",\n",
    "    llm_config=claude_3_5_sonnet_20240620_llm_config,\n",
    "    system_message=\"You are a helpful customer on-boarding agent, you are here to help new customers get started with our product. Your job is to gather customer's name and location. Do not ask for other information. Return 'TERMINATE' when you have gathered all the information.\\n\",\n",
    "    human_input_mode=\"NEVER\",\n",
    "    max_consecutive_auto_reply=None,\n",
    "    default_auto_reply=None,\n",
    "    code_execution_config=False,\n",
    "    is_termination_msg=lambda x: any(\n",
    "        x.get(\"content\", \"\") and x.get(\"content\", \"\").endswith(keyword)\n",
    "        for keyword in [\"TERMINATE\"]\n",
    "    ),\n",
    ")\n",
    "topic_preference_agent = AssistantAgent(\n",
    "    name=\"topic_preference_agent\",\n",
    "    description=\"On-boarding Topic Preference Agent\",\n",
    "    llm_config=claude_3_5_sonnet_20240620_llm_config,\n",
    "    system_message=\"You are a helpful customer topic preference agent, you are here to help new customers get started with our product. Your job is to gather customer's topic of interest. Do not ask for other information. Return 'TERMINATE' when you have gathered all the information.\\n\",\n",
    "    human_input_mode=\"NEVER\",\n",
    "    max_consecutive_auto_reply=None,\n",
    "    default_auto_reply=None,\n",
    "    code_execution_config=False,\n",
    "    is_termination_msg=lambda x: any(\n",
    "        x.get(\"content\", \"\") and x.get(\"content\", \"\").endswith(keyword)\n",
    "        for keyword in [\"TERMINATE\"]\n",
    "    ),\n",
    ")\n",
    "customer_engagement_agent = AssistantAgent(\n",
    "    name=\"customer_engagement_agent\",\n",
    "    description=\"On-boarding Customer Engagement Agent\",\n",
    "    llm_config=gpt_3_5_turbo_llm_config,\n",
    "    system_message=\"You are a helpful customer service agent here to provide fun for the customer based on the user's personal information and topic preferences. This could include fun facts, jokes, or interesting stories. Make sure to make it engaging and fun! Return 'TERMINATE' when you are done.\",\n",
    "    human_input_mode=\"NEVER\",\n",
    "    max_consecutive_auto_reply=None,\n",
    "    default_auto_reply=None,\n",
    "    code_execution_config=False,\n",
    "    is_termination_msg=lambda x: any(\n",
    "        x.get(\"content\", \"\") and x.get(\"content\", \"\").endswith(keyword)\n",
    "        for keyword in [\"TERMINATE\"]\n",
    "    ),\n",
    ")"
   ]
  },
  {
   "cell_type": "code",
   "execution_count": null,
   "id": "a9143cac",
   "metadata": {},
   "outputs": [],
   "source": [
    "def sqlite_to_csv(dbname: str, table: str, csv_file: str) -> None:\n",
    "    \"\"\"Convert a sqlite table to a csv file.\n",
    "\n",
    "    Parameters\n",
    "    ----------\n",
    "    dbname : str\n",
    "        The sqlite database name.\n",
    "    table : str\n",
    "        The table name.\n",
    "    csv_file : str\n",
    "        The csv file name.\n",
    "    \"\"\"\n",
    "    conn = sqlite3.connect(dbname)\n",
    "    query = f\"SELECT * FROM {table}\"  # nosec\n",
    "    try:\n",
    "        cursor = conn.execute(query)\n",
    "    except sqlite3.OperationalError:\n",
    "        conn.close()\n",
    "        return\n",
    "    rows = cursor.fetchall()\n",
    "    column_names = [description[0] for description in cursor.description]\n",
    "    data = [dict(zip(column_names, row)) for row in rows]\n",
    "    conn.close()\n",
    "    with open(csv_file, \"w\", newline=\"\", encoding=\"utf-8\") as file:\n",
    "        _csv_writer = csv.DictWriter(file, fieldnames=column_names)\n",
    "        _csv_writer.writeheader()\n",
    "        _csv_writer.writerows(data)"
   ]
  },
  {
   "cell_type": "markdown",
   "id": "d091eb61",
   "metadata": {},
   "source": [
    "## Run the flow"
   ]
  },
  {
   "cell_type": "code",
   "execution_count": null,
   "id": "c9b1b6c0",
   "metadata": {},
   "outputs": [],
   "source": [
    "runtime_logging.start(\n",
    "    logger_type=\"sqlite\",\n",
    "    config={\"dbname\": \"flow.db\"},\n",
    ")"
   ]
  },
  {
   "cell_type": "code",
   "execution_count": null,
   "id": "0805e04f",
   "metadata": {},
   "outputs": [],
   "source": [
    "initiate_chats(\n",
    "    [\n",
    "        {\n",
    "            \"sender\": personal_information_agent,\n",
    "            \"recipient\": customer_proxy,\n",
    "            \"summary_method\": \"reflection_with_llm\",\n",
    "            \"summary_args\": {\n",
    "                \"summary_prompt\": \"Return the customer information into as JSON object only: {'name': '', 'location': ''}\",\n",
    "                \"summary_role\": \"user\",\n",
    "            },\n",
    "            \"max_turns\": 1,\n",
    "            \"clear_history\": True,\n",
    "            \"message\": \"Hello, I'm here to help you get started with our product. Could you tell me your name and location?\",\n",
    "        },\n",
    "        {\n",
    "            \"sender\": topic_preference_agent,\n",
    "            \"recipient\": customer_proxy,\n",
    "            \"summary_method\": \"reflection_with_llm\",\n",
    "            \"summary_args\": {\n",
    "                \"summary_prompt\": \"Return the customer information into as JSON object only: {'topic_of_interest': ''}\",\n",
    "                \"summary_role\": \"user\",\n",
    "            },\n",
    "            \"max_turns\": 1,\n",
    "            \"clear_history\": True,\n",
    "            \"message\": \"Great! Could you tell me what topics you are interested in reading about?\",\n",
    "        },\n",
    "        {\n",
    "            \"sender\": customer_proxy,\n",
    "            \"recipient\": customer_engagement_agent,\n",
    "            \"summary_method\": \"reflection_with_llm\",\n",
    "            \"summary_args\": {\"summary_role\": \"user\"},\n",
    "            \"max_turns\": 1,\n",
    "            \"clear_history\": True,\n",
    "            \"message\": \"Let's find something fun to read.\",\n",
    "        },\n",
    "    ]\n",
    ")\n",
    "runtime_logging.stop()"
   ]
  },
  {
   "cell_type": "code",
   "execution_count": null,
   "id": "09506cca",
   "metadata": {
    "lines_to_next_cell": 2
   },
   "outputs": [],
   "source": [
    "if not os.path.exists(\"logs\"):\n",
    "    os.makedirs(\"logs\")\n",
    "for table in [\n",
    "    \"chat_completions\",\n",
    "    \"agents\",\n",
    "    \"oai_wrappers\",\n",
    "    \"oai_clients\",\n",
    "    \"version\",\n",
    "    \"events\",\n",
    "    \"function_calls\",\n",
    "]:\n",
    "    dest = os.path.join(\"logs\", f\"{table}.csv\")\n",
    "    sqlite_to_csv(\"flow.db\", table, dest)"
   ]
  }
 ],
 "metadata": {
  "jupytext": {
   "cell_metadata_filter": "-all",
   "main_language": "python",
   "notebook_metadata_filter": "-all"
  }
 },
 "nbformat": 4,
 "nbformat_minor": 5
}
